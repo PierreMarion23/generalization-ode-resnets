{
 "cells": [
  {
   "cell_type": "code",
   "execution_count": 4,
   "id": "9c280c54-6bac-4635-9729-3d035b7aad2f",
   "metadata": {},
   "outputs": [],
   "source": [
    "import os\n",
    "import pandas as pd"
   ]
  },
  {
   "cell_type": "code",
   "execution_count": 5,
   "id": "0b63c5f7-1e20-46e6-9178-ecf0be55b1f8",
   "metadata": {},
   "outputs": [],
   "source": [
    "directory = 'results/weights-after-training/1681736475.279459'\n",
    "with open(os.path.join(directory, 'metrics.csv'), 'r') as f:\n",
    "    csv_log = pd.read_csv(f)"
   ]
  },
  {
   "cell_type": "code",
   "execution_count": 19,
   "id": "2882ec33-93ed-492c-8cb6-140c914b10c4",
   "metadata": {},
   "outputs": [
    {
     "name": "stderr",
     "output_type": "stream",
     "text": [
      "/var/folders/5t/1858x_sn3kz5tw252hv5nw3w0000gn/T/ipykernel_30231/1150046983.py:1: UserWarning: Boolean Series key will be reindexed to match DataFrame index.\n",
      "  float(csv_log[csv_log['max_norm'].notnull()][csv_log['epoch']==2]['max_norm'])\n"
     ]
    },
    {
     "data": {
      "text/plain": [
       "246.39065551757807"
      ]
     },
     "execution_count": 19,
     "metadata": {},
     "output_type": "execute_result"
    }
   ],
   "source": [
    "float(csv_log[csv_log['max_norm'].notnull()][csv_log['epoch']==2]['max_norm'])"
   ]
  },
  {
   "cell_type": "code",
   "execution_count": null,
   "id": "c858d806-ebdb-4fcb-8e82-ffad8863041f",
   "metadata": {},
   "outputs": [],
   "source": []
  }
 ],
 "metadata": {
  "kernelspec": {
   "display_name": "Python 3 (ipykernel)",
   "language": "python",
   "name": "python3"
  },
  "language_info": {
   "codemirror_mode": {
    "name": "ipython",
    "version": 3
   },
   "file_extension": ".py",
   "mimetype": "text/x-python",
   "name": "python",
   "nbconvert_exporter": "python",
   "pygments_lexer": "ipython3",
   "version": "3.9.7"
  }
 },
 "nbformat": 4,
 "nbformat_minor": 5
}
